{
  "nbformat": 4,
  "nbformat_minor": 0,
  "metadata": {
    "colab": {
      "name": "MobileNetFineTuning.ipynb",
      "provenance": []
    },
    "kernelspec": {
      "name": "python3",
      "display_name": "Python 3"
    },
    "accelerator": "GPU"
  },
  "cells": [
    {
      "cell_type": "code",
      "metadata": {
        "id": "9alcEu44_aKm"
      },
      "source": [
        "from google.colab import drive\n",
        "drive.mount('/content/gdrive')"
      ],
      "execution_count": null,
      "outputs": []
    },
    {
      "cell_type": "code",
      "metadata": {
        "id": "IfwrnEnK_yLu"
      },
      "source": [
        "from keras.models import Model\n",
        "import numpy as np\n",
        "import keras\n",
        "from keras.layers.core import Dense\n",
        "from keras.optimizers import Adam\n",
        "from keras.preprocessing.image import ImageDataGenerator\n",
        "from matplotlib import pyplot as plt\n",
        "from sklearn.metrics import confusion_matrix\n",
        "import itertools\n"
      ],
      "execution_count": null,
      "outputs": []
    },
    {
      "cell_type": "code",
      "metadata": {
        "id": "_JJIm9Xu_yFV"
      },
      "source": [
        "mobile=keras.applications.mobilenet.MobileNet()"
      ],
      "execution_count": null,
      "outputs": []
    },
    {
      "cell_type": "code",
      "metadata": {
        "id": "QOdoMFYN_6sO"
      },
      "source": [
        "train_path = \"gdrive/My Drive/Input/Training\"\n",
        "\n",
        "\n",
        "train_batches = ImageDataGenerator(preprocessing_function=keras.applications.mobilenet.preprocess_input).\\\n",
        "    flow_from_directory(train_path,target_size=(224,224),batch_size=10)\n",
        "\n",
        "valid_path = \"gdrive/My Drive/Input/Valid\"\n",
        "\n",
        "valid_batches = ImageDataGenerator(preprocessing_function=keras.applications.mobilenet.preprocess_input).\\\n",
        "    flow_from_directory(valid_path,target_size=(224,224),batch_size=1)\n"
      ],
      "execution_count": null,
      "outputs": []
    },
    {
      "cell_type": "code",
      "metadata": {
        "id": "00ecMvvv_9hL"
      },
      "source": [
        "x = mobile.layers[-6].output\n",
        "\n",
        "predictions=Dense(14,activation='softmax')(x)\n",
        "model=Model(inputs=mobile.input,output=predictions)\n",
        "\n",
        "for layer in model.layers[:-30]:\n",
        "    layer.trainable = False\n",
        "\n",
        "\n",
        "model.compile(Adam(lr=0.0001), loss=\"categorical_crossentropy\", metrics=[\"accuracy\"])\n",
        "\n",
        "model.fit_generator(train_batches, steps_per_epoch=1200, validation_data=valid_batches, validation_steps=105, epochs=30, verbose=1)"
      ],
      "execution_count": null,
      "outputs": []
    },
    {
      "cell_type": "code",
      "source": [
        "model.save('gdrive/My Drive/Output/Model.h5')"
      ],
      "metadata": {
        "id": "5V8wyXHxE6Sg"
      },
      "execution_count": null,
      "outputs": []
    }
  ]
}